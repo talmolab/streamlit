{
 "cells": [
  {
   "cell_type": "code",
   "execution_count": null,
   "metadata": {},
   "outputs": [],
   "source": [
    "import numpy as np\n",
    "import pygfx as gfx\n",
    "import sleap_io as sio\n",
    "from wgpu.gui.auto import WgpuCanvas"
   ]
  },
  {
   "cell_type": "code",
   "execution_count": null,
   "metadata": {},
   "outputs": [],
   "source": [
    "labels = sio.load_slp(\"tests/data/slp/centered_pair_predictions.slp\")\n",
    "frame_index = input(f\"Enter the index of the frame you want to visualize (range: {0} - {len(labels)-1}): \")\n",
    "instances = labels.labeled_frames[int(frame_index)].instances\n",
    "video = labels.videos[0]\n",
    "image_height, image_width = video.shape[1], video.shape[2]"
   ]
  },
  {
   "cell_type": "code",
   "execution_count": null,
   "metadata": {},
   "outputs": [],
   "source": [
    "canvas = WgpuCanvas()\n",
    "renderer = gfx.WgpuRenderer(canvas)\n",
    "scene = gfx.Scene()\n",
    "colors = [(255, 0, 0, 1.0), (0, 255, 0, 1.0), (0, 0, 255, 1.0), (255, 255, 0, 1.0), (0, 255, 255, 1.0), (255, 0, 255, 1.0)]\n",
    "for i, instance in enumerate(instances):\n",
    "    instance_np = instance.numpy()\n",
    "    instance_np -= 100\n",
    "    positions = np.hstack((instance_np, np.ones((instance_np.shape[0], 1)))).astype(np.float32)\n",
    "    points = gfx.Points(\n",
    "        gfx.Geometry(positions=positions),\n",
    "        gfx.PointsMaterial(size=4, color=(255, 255, 255, 1.0)),\n",
    "    )\n",
    "    scene.add(points)\n",
    "    for index1, index2 in instance.skeleton.edge_inds:\n",
    "        edge = instance_np[[index1, index2]]\n",
    "        edge = np.hstack((edge, np.ones((edge.shape[0], 1)))).astype(np.float32)\n",
    "        scene.add(gfx.Line(\n",
    "            gfx.Geometry(positions=edge),\n",
    "            gfx.LineMaterial(color=colors[i], thickness=1.0),\n",
    "        ))\n",
    "\n",
    "scene.add(gfx.Background(material=gfx.BackgroundMaterial(\"#000000\")))\n",
    "\n",
    "camera = gfx.OrthographicCamera(image_width, image_height)\n",
    "canvas.request_draw(lambda: renderer.render(scene, camera))\n",
    "canvas"
   ]
  },
  {
   "cell_type": "code",
   "execution_count": null,
   "metadata": {},
   "outputs": [],
   "source": [
    "instances = labels.labeled_frames[430].instances\n",
    "video = labels.videos[0]\n",
    "image_height, image_width = video.shape[1], video.shape[2]\n",
    "canvas = WgpuCanvas()\n",
    "renderer = gfx.WgpuRenderer(canvas)\n",
    "scene = gfx.Scene()\n",
    "colors = [(255, 0, 0, 1.0), (0, 255, 0, 1.0), (0, 0, 255, 1.0), (255, 255, 0, 1.0), (0, 255, 255, 1.0), (255, 0, 255, 1.0)]\n",
    "for i, instance in enumerate(instances):\n",
    "    instance_np = instance.numpy()\n",
    "    instance_np -= 100\n",
    "    positions = np.hstack((instance_np, np.ones((instance_np.shape[0], 1)))).astype(np.float32)\n",
    "    points = gfx.Points(\n",
    "        gfx.Geometry(positions=positions),\n",
    "        gfx.PointsMaterial(size=4, color=(255, 255, 255, 1.0)),\n",
    "    )\n",
    "    scene.add(points)\n",
    "    for index1, index2 in instance.skeleton.edge_inds:\n",
    "        edge = instance_np[[index1, index2]]\n",
    "        edge = np.hstack((edge, np.ones((edge.shape[0], 1)))).astype(np.float32)\n",
    "        scene.add(gfx.Line(\n",
    "            gfx.Geometry(positions=edge),\n",
    "            gfx.LineMaterial(color=colors[i], thickness=1.0),\n",
    "        ))\n",
    "\n",
    "scene.add(gfx.Background(material=gfx.BackgroundMaterial(\"#000000\")))\n",
    "\n",
    "camera = gfx.OrthographicCamera(image_width, image_height)\n",
    "canvas.request_draw(lambda: renderer.render(scene, camera))\n",
    "canvas"
   ]
  }
 ],
 "metadata": {
  "kernelspec": {
   "display_name": "sleap-io",
   "language": "python",
   "name": "python3"
  },
  "language_info": {
   "codemirror_mode": {
    "name": "ipython",
    "version": 3
   },
   "file_extension": ".py",
   "mimetype": "text/x-python",
   "name": "python",
   "nbconvert_exporter": "python",
   "pygments_lexer": "ipython3",
   "version": "3.12.4"
  }
 },
 "nbformat": 4,
 "nbformat_minor": 2
}
